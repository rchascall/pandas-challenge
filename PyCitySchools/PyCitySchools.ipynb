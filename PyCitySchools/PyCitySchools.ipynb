{
 "cells": [
  {
   "cell_type": "code",
   "execution_count": null,
   "metadata": {},
   "outputs": [],
   "source": [
    "# Dependencies and Setup\n",
    "import pandas as pd\n",
    "import numpy as np\n",
    "\n",
    "# Load school and student data\n",
    "school_data_load = \"Resources/schools_complete.csv\"\n",
    "student_data_load = \"Resources/students_complete.csv\"\n",
    "\n",
    "# Read School and Student Data File and store into Pandas DataFrames\n",
    "school_data_df = pd.read_csv(school_data_load)\n",
    "student_data_df = pd.read_csv(student_data_load)\n",
    "\n",
    "# Combine the data into a single dataset.  \n",
    "school_data_combined_df = pd.merge(student_data_df, school_data_df, how=\"left\", on=[\"school_name\", \"school_name\"])\n",
    "#school_data_combined_df "
   ]
  },
  {
   "cell_type": "code",
   "execution_count": 210,
   "metadata": {},
   "outputs": [
    {
     "data": {
      "text/plain": [
       "Index(['Student ID', 'student_name', 'gender', 'grade', 'school_name',\n",
       "       'reading_score', 'math_score', 'School ID', 'type', 'size', 'budget'],\n",
       "      dtype='object')"
      ]
     },
     "execution_count": 210,
     "metadata": {},
     "output_type": "execute_result"
    }
   ],
   "source": [
    "school_data_combined_df.columns"
   ]
  },
  {
   "cell_type": "code",
   "execution_count": 212,
   "metadata": {},
   "outputs": [],
   "source": [
    "# Calculate total schools\n",
    "school_count = len(school_data_combined_df['school_name'].unique())\n",
    "#print(school_count)\n",
    "\n",
    "# Calculate total students\n",
    "student_count = (len(school_data_combined_df))\n",
    "#print(student_count)\n",
    "\n",
    "# Calculate total budget\n",
    "total_budget = (school_data_df['budget']).sum()\n",
    "#print(total_budget)\n",
    "\n",
    "# Calculate Average Math Score\n",
    "math_average = school_data_combined_df['math_score'].mean()\n",
    "#print(math_average)\n",
    "\n",
    "# Calculate Average Reading Score\n",
    "reading_average = school_data_combined_df['reading_score'].mean()\n",
    "#print(reading_average)\n",
    "\n",
    "# Calculated Passing Math Percentage\n",
    "passing_math_score = (school_data_combined_df['math_score'] > 69).sum()\n",
    "passing_math_percent = (passing_math_score / student_count) * 100\n",
    "#print(passing_math_percent)\n",
    "\n",
    "# Calculate Passing Reading\n",
    "passing_reading_score = (school_data_combined_df['reading_score'] > 69).sum()\n",
    "passing_reading_percent = (passing_reading_score / student_count) * 100\n",
    "#print(passing_reading_percent)\n",
    "\n",
    "# Calculate Overall Passing\n",
    "overall_passing_calc = school_data_combined_df[(school_data_combined_df['reading_score'] > 69) & (school_data_combined_df['math_score'] > 69)].count()['student_name']\n",
    "overall_passing_percent = (overall_passing_calc / student_count) * 100\n",
    "#print(overall_passing_percent)\n",
    "\n"
   ]
  },
  {
   "cell_type": "code",
   "execution_count": 214,
   "metadata": {},
   "outputs": [
    {
     "data": {
      "text/html": [
       "<div>\n",
       "<style scoped>\n",
       "    .dataframe tbody tr th:only-of-type {\n",
       "        vertical-align: middle;\n",
       "    }\n",
       "\n",
       "    .dataframe tbody tr th {\n",
       "        vertical-align: top;\n",
       "    }\n",
       "\n",
       "    .dataframe thead th {\n",
       "        text-align: right;\n",
       "    }\n",
       "</style>\n",
       "<table border=\"1\" class=\"dataframe\">\n",
       "  <thead>\n",
       "    <tr style=\"text-align: right;\">\n",
       "      <th></th>\n",
       "      <th>Total Schools</th>\n",
       "      <th>Total Students</th>\n",
       "      <th>Total Budget</th>\n",
       "      <th>Average Math Score</th>\n",
       "      <th>Average Reading Score</th>\n",
       "      <th>% passing math</th>\n",
       "      <th>% passing reading</th>\n",
       "      <th>% overall passing</th>\n",
       "    </tr>\n",
       "  </thead>\n",
       "  <tbody>\n",
       "    <tr>\n",
       "      <th>0</th>\n",
       "      <td>15</td>\n",
       "      <td>39170</td>\n",
       "      <td>24649428</td>\n",
       "      <td>78.985371</td>\n",
       "      <td>81.87784</td>\n",
       "      <td>74.980853</td>\n",
       "      <td>85.805463</td>\n",
       "      <td>65.172326</td>\n",
       "    </tr>\n",
       "  </tbody>\n",
       "</table>\n",
       "</div>"
      ],
      "text/plain": [
       "   Total Schools  Total Students  Total Budget  Average Math Score  \\\n",
       "0             15           39170      24649428           78.985371   \n",
       "\n",
       "   Average Reading Score  % passing math  % passing reading  % overall passing  \n",
       "0               81.87784       74.980853          85.805463          65.172326  "
      ]
     },
     "execution_count": 214,
     "metadata": {},
     "output_type": "execute_result"
    }
   ],
   "source": [
    "# District Summary\n",
    "district_summary = pd.DataFrame({\"Total Schools\": [school_count], \"Total Students\": student_count,\n",
    "                                \"Total Budget\": total_budget, \"Average Math Score\": math_average,\n",
    "                                \"Average Reading Score\": reading_average,\n",
    "                                \"% passing math\": passing_math_percent, \"% passing reading\": passing_reading_percent,\n",
    "                                \"% overall passing\": overall_passing_percent\n",
    "                                })\n",
    "district_summary"
   ]
  },
  {
   "cell_type": "code",
   "execution_count": 195,
   "metadata": {},
   "outputs": [
    {
     "data": {
      "text/plain": [
       "Index(['Student ID', 'student_name', 'gender', 'grade', 'school_name',\n",
       "       'reading_score', 'math_score', 'School ID', 'type', 'size', 'budget'],\n",
       "      dtype='object')"
      ]
     },
     "execution_count": 195,
     "metadata": {},
     "output_type": "execute_result"
    }
   ],
   "source": [
    "school_data_combined_df.columns"
   ]
  },
  {
   "cell_type": "code",
   "execution_count": null,
   "metadata": {},
   "outputs": [],
   "source": [
    "# Find School Name\n",
    "#school_summary = school_data_combined_df['school_name'].unique(),['type']\n",
    "#print(school_summary)\n",
    "\n",
    "# Find School Type\n",
    "#school_type = [(school_data_combined_df['type'])]\n",
    "#print(school_type)"
   ]
  },
  {
   "cell_type": "code",
   "execution_count": 208,
   "metadata": {},
   "outputs": [
    {
     "ename": "TypeError",
     "evalue": "'type' object is not subscriptable",
     "output_type": "error",
     "traceback": [
      "\u001b[1;31m---------------------------------------------------------------------------\u001b[0m",
      "\u001b[1;31mTypeError\u001b[0m                                 Traceback (most recent call last)",
      "\u001b[1;32mc:\\Users\\rober\\Documents\\GitHub\\pandas-challenge\\PyCitySchools\\PyCitySchools.ipynb Cell 7\u001b[0m in \u001b[0;36m<cell line: 2>\u001b[1;34m()\u001b[0m\n\u001b[0;32m      <a href='vscode-notebook-cell:/c%3A/Users/rober/Documents/GitHub/pandas-challenge/PyCitySchools/PyCitySchools.ipynb#X15sZmlsZQ%3D%3D?line=0'>1</a>\u001b[0m \u001b[39m# School Summary - Top Performing Schools (By Overall % Passing)\u001b[39;00m\n\u001b[1;32m----> <a href='vscode-notebook-cell:/c%3A/Users/rober/Documents/GitHub/pandas-challenge/PyCitySchools/PyCitySchools.ipynb#X15sZmlsZQ%3D%3D?line=1'>2</a>\u001b[0m school_summary_df \u001b[39m=\u001b[39m pd\u001b[39m.\u001b[39;49mDataFrame[\u001b[39m\"\u001b[39;49m\u001b[39mschool_name\u001b[39;49m\u001b[39m\"\u001b[39;49m, \u001b[39m\"\u001b[39;49m\u001b[39mstudent_count\u001b[39;49m\u001b[39m\"\u001b[39;49m, \u001b[39m\"\u001b[39;49m\u001b[39mbudget\u001b[39;49m\u001b[39m\"\u001b[39;49m]\n\u001b[0;32m      <a href='vscode-notebook-cell:/c%3A/Users/rober/Documents/GitHub/pandas-challenge/PyCitySchools/PyCitySchools.ipynb#X15sZmlsZQ%3D%3D?line=2'>3</a>\u001b[0m school_summary_df\n",
      "\u001b[1;31mTypeError\u001b[0m: 'type' object is not subscriptable"
     ]
    }
   ],
   "source": [
    "# School Summary - Top Performing Schools (By Overall % Passing)\n",
    "school_summary_df = pd.DataFrame[\"school_name\", \"student_count\", \"budget\"]\n",
    "school_summary_df"
   ]
  }
 ],
 "metadata": {
  "kernelspec": {
   "display_name": "Python 3.9.12 ('base')",
   "language": "python",
   "name": "python3"
  },
  "language_info": {
   "codemirror_mode": {
    "name": "ipython",
    "version": 3
   },
   "file_extension": ".py",
   "mimetype": "text/x-python",
   "name": "python",
   "nbconvert_exporter": "python",
   "pygments_lexer": "ipython3",
   "version": "3.9.12"
  },
  "orig_nbformat": 4,
  "vscode": {
   "interpreter": {
    "hash": "740329b21a1252e1c253d583311b6d3f7744168cabc7e2151c4ba7a007513518"
   }
  }
 },
 "nbformat": 4,
 "nbformat_minor": 2
}
